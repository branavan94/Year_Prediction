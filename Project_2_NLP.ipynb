{
 "cells": [
  {
   "cell_type": "code",
   "execution_count": 21,
   "metadata": {},
   "outputs": [],
   "source": [
    "import xml.etree.ElementTree as elemT\n",
    "import fr_core_news_md\n",
    "import re\n",
    "import pandas as pd\n",
    "import numpy as np\n",
    "import seaborn as sb\n",
    "import nltk\n",
    "from nltk.corpus import stopwords as sw\n",
    "from nltk.tokenize import TreebankWordTokenizer as twt\n",
    "import spacy\n",
    "from PIL import Image\n",
    "from wordcloud import WordCloud, STOPWORDS, ImageColorGenerator\n",
    "import matplotlib.pyplot as plt\n",
    "from sklearn.feature_extraction.text import CountVectorizer\n",
    "import warnings\n",
    "warnings.simplefilter(\"ignore\", DeprecationWarning)\n",
    "from sklearn.decomposition import LatentDirichletAllocation as LDA\n",
    "import seaborn as sns"
   ]
  },
  {
   "cell_type": "code",
   "execution_count": 12,
   "metadata": {},
   "outputs": [
    {
     "name": "stdout",
     "output_type": "stream",
     "text": [
      "Collecting fr_core_news_md==2.3.0\n",
      "  Downloading https://github.com/explosion/spacy-models/releases/download/fr_core_news_md-2.3.0/fr_core_news_md-2.3.0.tar.gz (46.1 MB)\n",
      "Requirement already satisfied: spacy<2.4.0,>=2.3.0 in c:\\users\\33652\\appdata\\local\\programs\\python\\python37\\lib\\site-packages (from fr_core_news_md==2.3.0) (2.3.5)\n",
      "Requirement already satisfied: wasabi<1.1.0,>=0.4.0 in c:\\users\\33652\\appdata\\local\\programs\\python\\python37\\lib\\site-packages (from spacy<2.4.0,>=2.3.0->fr_core_news_md==2.3.0) (0.8.0)\n",
      "Requirement already satisfied: plac<1.2.0,>=0.9.6 in c:\\users\\33652\\appdata\\local\\programs\\python\\python37\\lib\\site-packages (from spacy<2.4.0,>=2.3.0->fr_core_news_md==2.3.0) (1.1.3)\n",
      "Requirement already satisfied: numpy>=1.15.0 in c:\\users\\33652\\appdata\\local\\programs\\python\\python37\\lib\\site-packages (from spacy<2.4.0,>=2.3.0->fr_core_news_md==2.3.0) (1.18.5)\n",
      "Requirement already satisfied: preshed<3.1.0,>=3.0.2 in c:\\users\\33652\\appdata\\local\\programs\\python\\python37\\lib\\site-packages (from spacy<2.4.0,>=2.3.0->fr_core_news_md==2.3.0) (3.0.5)\n",
      "Requirement already satisfied: requests<3.0.0,>=2.13.0 in c:\\users\\33652\\appdata\\local\\programs\\python\\python37\\lib\\site-packages (from spacy<2.4.0,>=2.3.0->fr_core_news_md==2.3.0) (2.25.0)\n",
      "Requirement already satisfied: murmurhash<1.1.0,>=0.28.0 in c:\\users\\33652\\appdata\\local\\programs\\python\\python37\\lib\\site-packages (from spacy<2.4.0,>=2.3.0->fr_core_news_md==2.3.0) (1.0.5)\n",
      "Requirement already satisfied: srsly<1.1.0,>=1.0.2 in c:\\users\\33652\\appdata\\local\\programs\\python\\python37\\lib\\site-packages (from spacy<2.4.0,>=2.3.0->fr_core_news_md==2.3.0) (1.0.5)\n",
      "Requirement already satisfied: cymem<2.1.0,>=2.0.2 in c:\\users\\33652\\appdata\\local\\programs\\python\\python37\\lib\\site-packages (from spacy<2.4.0,>=2.3.0->fr_core_news_md==2.3.0) (2.0.5)\n",
      "Requirement already satisfied: thinc<7.5.0,>=7.4.1 in c:\\users\\33652\\appdata\\local\\programs\\python\\python37\\lib\\site-packages (from spacy<2.4.0,>=2.3.0->fr_core_news_md==2.3.0) (7.4.5)\n",
      "Requirement already satisfied: catalogue<1.1.0,>=0.0.7 in c:\\users\\33652\\appdata\\local\\programs\\python\\python37\\lib\\site-packages (from spacy<2.4.0,>=2.3.0->fr_core_news_md==2.3.0) (1.0.0)\n",
      "Requirement already satisfied: tqdm<5.0.0,>=4.38.0 in c:\\users\\33652\\appdata\\local\\programs\\python\\python37\\lib\\site-packages (from spacy<2.4.0,>=2.3.0->fr_core_news_md==2.3.0) (4.54.1)\n",
      "Requirement already satisfied: blis<0.8.0,>=0.4.0 in c:\\users\\33652\\appdata\\local\\programs\\python\\python37\\lib\\site-packages (from spacy<2.4.0,>=2.3.0->fr_core_news_md==2.3.0) (0.7.4)\n",
      "Requirement already satisfied: setuptools in c:\\users\\33652\\appdata\\local\\programs\\python\\python37\\lib\\site-packages (from spacy<2.4.0,>=2.3.0->fr_core_news_md==2.3.0) (51.0.0)\n",
      "Requirement already satisfied: numpy>=1.15.0 in c:\\users\\33652\\appdata\\local\\programs\\python\\python37\\lib\\site-packages (from spacy<2.4.0,>=2.3.0->fr_core_news_md==2.3.0) (1.18.5)\n",
      "Requirement already satisfied: importlib-metadata>=0.20 in c:\\users\\33652\\appdata\\local\\programs\\python\\python37\\lib\\site-packages (from catalogue<1.1.0,>=0.0.7->spacy<2.4.0,>=2.3.0->fr_core_news_md==2.3.0) (2.0.0)\n",
      "Requirement already satisfied: zipp>=0.5 in c:\\users\\33652\\appdata\\local\\programs\\python\\python37\\lib\\site-packages (from importlib-metadata>=0.20->catalogue<1.1.0,>=0.0.7->spacy<2.4.0,>=2.3.0->fr_core_news_md==2.3.0) (3.4.0)\n",
      "Requirement already satisfied: murmurhash<1.1.0,>=0.28.0 in c:\\users\\33652\\appdata\\local\\programs\\python\\python37\\lib\\site-packages (from spacy<2.4.0,>=2.3.0->fr_core_news_md==2.3.0) (1.0.5)\n",
      "Requirement already satisfied: cymem<2.1.0,>=2.0.2 in c:\\users\\33652\\appdata\\local\\programs\\python\\python37\\lib\\site-packages (from spacy<2.4.0,>=2.3.0->fr_core_news_md==2.3.0) (2.0.5)\n",
      "Requirement already satisfied: idna<3,>=2.5 in c:\\users\\33652\\appdata\\local\\programs\\python\\python37\\lib\\site-packages (from requests<3.0.0,>=2.13.0->spacy<2.4.0,>=2.3.0->fr_core_news_md==2.3.0) (2.10)\n",
      "Requirement already satisfied: urllib3<1.27,>=1.21.1 in c:\\users\\33652\\appdata\\local\\programs\\python\\python37\\lib\\site-packages (from requests<3.0.0,>=2.13.0->spacy<2.4.0,>=2.3.0->fr_core_news_md==2.3.0) (1.26.2)\n",
      "Requirement already satisfied: certifi>=2017.4.17 in c:\\users\\33652\\appdata\\local\\programs\\python\\python37\\lib\\site-packages (from requests<3.0.0,>=2.13.0->spacy<2.4.0,>=2.3.0->fr_core_news_md==2.3.0) (2020.6.20)\n",
      "Requirement already satisfied: chardet<4,>=3.0.2 in c:\\users\\33652\\appdata\\local\\programs\\python\\python37\\lib\\site-packages (from requests<3.0.0,>=2.13.0->spacy<2.4.0,>=2.3.0->fr_core_news_md==2.3.0) (3.0.4)\n",
      "Requirement already satisfied: numpy>=1.15.0 in c:\\users\\33652\\appdata\\local\\programs\\python\\python37\\lib\\site-packages (from spacy<2.4.0,>=2.3.0->fr_core_news_md==2.3.0) (1.18.5)\n",
      "Requirement already satisfied: murmurhash<1.1.0,>=0.28.0 in c:\\users\\33652\\appdata\\local\\programs\\python\\python37\\lib\\site-packages (from spacy<2.4.0,>=2.3.0->fr_core_news_md==2.3.0) (1.0.5)\n",
      "Requirement already satisfied: cymem<2.1.0,>=2.0.2 in c:\\users\\33652\\appdata\\local\\programs\\python\\python37\\lib\\site-packages (from spacy<2.4.0,>=2.3.0->fr_core_news_md==2.3.0) (2.0.5)\n",
      "Requirement already satisfied: tqdm<5.0.0,>=4.38.0 in c:\\users\\33652\\appdata\\local\\programs\\python\\python37\\lib\\site-packages (from spacy<2.4.0,>=2.3.0->fr_core_news_md==2.3.0) (4.54.1)\n",
      "Requirement already satisfied: catalogue<1.1.0,>=0.0.7 in c:\\users\\33652\\appdata\\local\\programs\\python\\python37\\lib\\site-packages (from spacy<2.4.0,>=2.3.0->fr_core_news_md==2.3.0) (1.0.0)\n",
      "Requirement already satisfied: preshed<3.1.0,>=3.0.2 in c:\\users\\33652\\appdata\\local\\programs\\python\\python37\\lib\\site-packages (from spacy<2.4.0,>=2.3.0->fr_core_news_md==2.3.0) (3.0.5)\n",
      "Requirement already satisfied: wasabi<1.1.0,>=0.4.0 in c:\\users\\33652\\appdata\\local\\programs\\python\\python37\\lib\\site-packages (from spacy<2.4.0,>=2.3.0->fr_core_news_md==2.3.0) (0.8.0)\n",
      "Requirement already satisfied: srsly<1.1.0,>=1.0.2 in c:\\users\\33652\\appdata\\local\\programs\\python\\python37\\lib\\site-packages (from spacy<2.4.0,>=2.3.0->fr_core_news_md==2.3.0) (1.0.5)\n",
      "Requirement already satisfied: blis<0.8.0,>=0.4.0 in c:\\users\\33652\\appdata\\local\\programs\\python\\python37\\lib\\site-packages (from spacy<2.4.0,>=2.3.0->fr_core_news_md==2.3.0) (0.7.4)\n",
      "Requirement already satisfied: plac<1.2.0,>=0.9.6 in c:\\users\\33652\\appdata\\local\\programs\\python\\python37\\lib\\site-packages (from spacy<2.4.0,>=2.3.0->fr_core_news_md==2.3.0) (1.1.3)\n",
      "Building wheels for collected packages: fr-core-news-md\n",
      "  Building wheel for fr-core-news-md (setup.py): started\n",
      "  Building wheel for fr-core-news-md (setup.py): finished with status 'done'\n",
      "  Created wheel for fr-core-news-md: filename=fr_core_news_md-2.3.0-py3-none-any.whl size=46100670 sha256=ad951718b73a9941e3346de81adf6649cd0543b761339f9d50e5d10fb72ec3fd\n",
      "  Stored in directory: C:\\Users\\33652\\AppData\\Local\\Temp\\pip-ephem-wheel-cache-yjf0wkii\\wheels\\62\\a5\\93\\9c82d8ae84430ed80720262c11726d046d3444af301b7d2895\n",
      "Successfully built fr-core-news-md\n",
      "Installing collected packages: fr-core-news-md\n",
      "Successfully installed fr-core-news-md-2.3.0\n",
      "[+] Download and installation successful\n",
      "You can now load the model via spacy.load('fr_core_news_md')\n"
     ]
    },
    {
     "name": "stderr",
     "output_type": "stream",
     "text": [
      "WARNING: You are using pip version 20.3.1; however, version 20.3.3 is available.\n",
      "You should consider upgrading via the 'C:\\Users\\33652\\AppData\\Local\\Programs\\Python\\Python37\\python.exe -m pip install --upgrade pip' command.\n"
     ]
    }
   ],
   "source": [
    "!python -m spacy download fr_core_news_md"
   ]
  },
  {
   "cell_type": "code",
   "execution_count": 16,
   "metadata": {},
   "outputs": [
    {
     "name": "stderr",
     "output_type": "stream",
     "text": [
      "[nltk_data] Downloading package stopwords to\n",
      "[nltk_data]     C:\\Users\\33652\\AppData\\Roaming\\nltk_data...\n",
      "[nltk_data]   Unzipping corpora\\stopwords.zip.\n"
     ]
    },
    {
     "data": {
      "text/plain": [
       "True"
      ]
     },
     "execution_count": 16,
     "metadata": {},
     "output_type": "execute_result"
    }
   ],
   "source": [
    "nltk.download('stopwords')"
   ]
  },
  {
   "cell_type": "markdown",
   "metadata": {},
   "source": [
    "### Data Retrieval"
   ]
  },
  {
   "cell_type": "code",
   "execution_count": 2,
   "metadata": {},
   "outputs": [],
   "source": [
    "def CreateDataFrame():\n",
    "    tree = elemT.parse(\"C:/Users/33652/Desktop/ESILV/A5/ADV machine learning/Project_2/corpus-taln/corpus-taln/2/corpus_taln_v1.tei.xml\")\n",
    "    root = tree.getroot()\n",
    "\n",
    "    allText = []\n",
    "    allText_en = []\n",
    "\n",
    "    for child in root:\n",
    "        corpus = \"\"\n",
    "        title = \"\"\n",
    "        date = \"\"\n",
    "        abstract = \"\"\n",
    "        keyword = \"\"\n",
    "\n",
    "# Occupons nous des textes en français car ils composent la majorité du corpus (environ 1500 sur 1600)\n",
    "        if child.get(\"{http://www.w3.org/XML/1998/namespace}lang\") == \"fr\":\n",
    "            title = GetRidOfLineBreak(str(child[0][0][0][0].text).lower())\n",
    "            date = GetRidOfLineBreak(str(child[0][0][1][2].text).lower())\n",
    "            abstract = GetRidOfLineBreak(str(child[1][0][0][0].text).lower())\n",
    "            keyword = GetRidOfLineBreak(str(child[1][0][2][0].text).lower())\n",
    "            for i in range(len(child[1][1])):\n",
    "                for j in range(len(child[1][1][i])):\n",
    "                    if len(child[1][1][i]) > 1:\n",
    "                        for k in range(len(child[1][1][i][j])):\n",
    "                            tempTxt = GetRidOfLineBreak(str(child[1][1][i][j][k].text).lower() + \" \")\n",
    "                            corpus = corpus + tempTxt\n",
    "                    else:\n",
    "                        tempTxt = GetRidOfLineBreak(str(child[1][1][i][j].text).lower() + \" \")\n",
    "                        corpus = corpus + tempTxt\n",
    "            allText.append([title, date, abstract, corpus, keyword])\n",
    "            \n",
    "    df = pd.DataFrame(allText,columns=[\"Title\", \"Date\", \"Abstract\", \"Corpus\", \"Keyword\"])\n",
    "    return df\n",
    "\n",
    "def GetRidOfLineBreak(string):\n",
    "    regex = re.compile(r'[\\n\\r\\t]')\n",
    "    return regex.sub(\" \", string)\n",
    "\n",
    "\n"
   ]
  },
  {
   "cell_type": "code",
   "execution_count": 3,
   "metadata": {},
   "outputs": [],
   "source": [
    "df = CreateDataFrame()"
   ]
  },
  {
   "cell_type": "markdown",
   "metadata": {},
   "source": [
    "### Creating Preprocessing functions"
   ]
  },
  {
   "cell_type": "code",
   "execution_count": 4,
   "metadata": {},
   "outputs": [],
   "source": [
    "def GetRidOfApostrophe(df, column):\n",
    "    replacements = ((\"d\\'\", \"de \"), (\"qu\\'\", \"que \"), (\"l\\'\", \"le \"), (\"j\\'\", \"je \"), (\"c\\'\", \"ce \"), (\"s\\'\", \"se \"), (\"n\\'\", \"ne \"), (\"m\\'\", \"me \"), (\"t\\'\", \"te \"))\n",
    "    for replacement in replacements:\n",
    "        df[column] = df[column].str.replace(*replacement)\n",
    "\n",
    "def GetRidOfSpecialCharacter(df, column):\n",
    "    df[column] = df[column].str.replace('[\\-\\[\\]+;\\'!\\^:/,\"#&@\\(\\)\\$\\?%\\_\\*«»]|[A-Z]\\.|None|', \"\")\n",
    "\n",
    "def GetRidOfAccent(df, column):\n",
    "    replacements = ((\"[éèêë]\", \"e\"), (\"[àâ]\", \"a\"), (\"[ùûü]\", \"u\"), (\"[ïî]\", \"i\"), (\"[ö]\", \"o\"), (\"[ç]\", \"c\"))\n",
    "    for replacement in replacements:\n",
    "        df[column] = df[column].str.replace(*replacement)"
   ]
  },
  {
   "cell_type": "code",
   "execution_count": 5,
   "metadata": {},
   "outputs": [],
   "source": [
    "def Preprocessing(df):\n",
    "    columns = [\"Title\", \"Date\", \"Abstract\", \"Corpus\", \"Keyword\"]\n",
    "    for column in columns:\n",
    "        GetRidOfApostrophe(df, column)\n",
    "        GetRidOfSpecialCharacter(df, column)\n",
    "        GetRidOfAccent(df, column)\n",
    "def UseStopWords(df):\n",
    "    stopWords = sw.words(\"french\")\n",
    "    columns = [\"Title\", \"Abstract\", \"Corpus\", \"Keyword\"]\n",
    "\n",
    "    for column in columns:\n",
    "        df[column] = df[column].apply(lambda i : ' '.join([word for word in i.split() if word not in stopWords]))\n"
   ]
  },
  {
   "cell_type": "code",
   "execution_count": 14,
   "metadata": {},
   "outputs": [],
   "source": [
    "def lemmatizer(df):\n",
    "    nlp = fr_core_news_md.load()\n",
    "    columns = [\"Title\", \"Abstract\", \"Corpus\"]\n",
    "\n",
    "    for index, row in df.iterrows():\n",
    "        for column in columns:\n",
    "            doc = nlp(row[column])\n",
    "            result = \"\"\n",
    "            count = 0\n",
    "            for token in doc:\n",
    "              result = result + token.lemma_\n",
    "              count = count + 1\n",
    "              if count < len(doc)-1:\n",
    "                result = result + \" \"\n",
    "            row[column] = result"
   ]
  },
  {
   "cell_type": "markdown",
   "metadata": {},
   "source": [
    "### Preprocessing Text"
   ]
  },
  {
   "cell_type": "code",
   "execution_count": 17,
   "metadata": {},
   "outputs": [],
   "source": [
    "lemmatizer(df)\n",
    "Preprocessing(df)\n",
    "UseStopWords(df)"
   ]
  },
  {
   "cell_type": "code",
   "execution_count": 51,
   "metadata": {},
   "outputs": [
    {
     "data": {
      "text/plain": [
       "<Figure size 432x288 with 0 Axes>"
      ]
     },
     "metadata": {},
     "output_type": "display_data"
    },
    {
     "data": {
      "image/png": "[encoded data removed]",
      "text/plain": [
       "<Figure size 1152x720 with 1 Axes>"
      ]
     },
     "metadata": {},
     "output_type": "display_data"
    }
   ],
   "source": [
    "import matplotlib.pyplot as plt\n",
    "fig = plt.gcf()\n",
    "sns.set(style=\"whitegrid\")\n",
    "g = sns.displot(df, x=\"Date\",binwidth=5)\n",
    "g.fig.set_figwidth(16)\n",
    "g.fig.set_figheight(10)"
   ]
  },
  {
   "cell_type": "code",
   "execution_count": 86,
   "metadata": {},
   "outputs": [],
   "source": [
    "title_len = df.Title.values\n",
    "len_title = []\n",
    "for item in title_len:\n",
    "    len_title = np.append(len_title,[len(item)], axis= 0)\n",
    "df['len_title'] = len_title"
   ]
  },
  {
   "cell_type": "code",
   "execution_count": 97,
   "metadata": {},
   "outputs": [
    {
     "data": {
      "image/png": "[encoded data removed]",
      "text/plain": [
       "<Figure size 1152x720 with 1 Axes>"
      ]
     },
     "metadata": {},
     "output_type": "display_data"
    }
   ],
   "source": [
    "g = sns.displot(df, x=\"len_title\",binwidth=5)\n",
    "g.fig.set_figwidth(16)\n",
    "g.fig.set_figheight(10)"
   ]
  },
  {
   "cell_type": "code",
   "execution_count": null,
   "metadata": {},
   "outputs": [],
   "source": [
    "# Analyser la distribution des années sur le dataframe\n",
    "# Créer une fonction qui permettrait de balance les données en année si c'est compliqué puis diviser en 80/10/10\n",
    "# Quand on aura notre premier moèdle, ce serait d'analyser le pourcentage de confidence (60% de proba pour le choix d'un article,\n",
    "#le dire et montrer ce qu'on peut faire pour improve THE MODEL)\n",
    "# Quelle année est compliqué à compute, pourquoi ? analyse des mots qui permettent de décider de l'année (Feature Importance)\n",
    "# Quels mots sont compliqués, ont rendu la tâche de régression compliquée. \n",
    "# Ne pas considérer le problème comme une classification"
   ]
  },
  {
   "cell_type": "code",
   "execution_count": null,
   "metadata": {},
   "outputs": [],
   "source": []
  }
 ],
 "metadata": {
  "kernelspec": {
   "display_name": "Python 3",
   "language": "python",
   "name": "python3"
  },
  "language_info": {
   "codemirror_mode": {
    "name": "ipython",
    "version": 3
   },
   "file_extension": ".py",
   "mimetype": "text/x-python",
   "name": "python",
   "nbconvert_exporter": "python",
   "pygments_lexer": "ipython3",
   "version": "3.7.0"
  }
 },
 "nbformat": 4,
 "nbformat_minor": 4
}
